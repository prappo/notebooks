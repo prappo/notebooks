{
  "nbformat": 4,
  "nbformat_minor": 0,
  "metadata": {
    "colab": {
      "provenance": [],
      "gpuType": "T4"
    },
    "kernelspec": {
      "name": "python3",
      "display_name": "Python 3"
    },
    "language_info": {
      "name": "python"
    },
    "accelerator": "GPU"
  },
  "cells": [
    {
      "cell_type": "markdown",
      "source": [
        "# **This notbook shows how to inference using unsloth and streaming**"
      ],
      "metadata": {
        "id": "EVecJwRUe8U2"
      }
    },
    {
      "cell_type": "code",
      "execution_count": null,
      "metadata": {
        "id": "kd-3-ZrHejNt"
      },
      "outputs": [],
      "source": [
        "# Install dependencies\n",
        "!pip install unsloth trl peft accelerate bitsandbytes"
      ]
    },
    {
      "cell_type": "code",
      "source": [
        "# For GPU check\n",
        "import torch\n",
        "print(f\"CUDA avilable : {torch.cuda.is_available()}\")\n",
        "print(f\"GPU : {torch.cuda.get_device_name(0) if torch.cuda.is_available() else 'None'}\")"
      ],
      "metadata": {
        "colab": {
          "base_uri": "https://localhost:8080/"
        },
        "id": "8brFS_LafKbj",
        "outputId": "2c92b1c8-43b3-45dd-88bb-05dbe77cb694"
      },
      "execution_count": null,
      "outputs": [
        {
          "output_type": "stream",
          "name": "stdout",
          "text": [
            "CUDA avilable : True\n",
            "GPU : Tesla T4\n"
          ]
        }
      ]
    },
    {
      "cell_type": "code",
      "source": [
        "import unsloth\n",
        "import transformers\n",
        "\n",
        "model , tokenizer = unsloth.FastLanguageModel.from_pretrained(\n",
        "    model_name=\"unsloth/Phi-3-mini-4k-instruct-bnb-4bit\",\n",
        "    max_seq_length=2048,\n",
        "    load_in_4bit=True\n",
        ")\n",
        "\n",
        "unsloth.FastLanguageModel.for_inference(model)\n",
        "text_stremer = transformers.TextStreamer(tokenizer)\n",
        "\n",
        "inputs = tokenizer(\"what is love?\", return_tensors=\"pt\").to('cuda')\n",
        "output = model.generate(**inputs, streamer=text_stremer, max_new_tokens=200,temperature=0.7,do_sample=True)\n",
        "# print(tokenizer.decode(outputs[0]))\n"
      ],
      "metadata": {
        "colab": {
          "base_uri": "https://localhost:8080/"
        },
        "id": "9J7UrrTjgQcq",
        "outputId": "44916362-d2f5-4ab5-bb65-25e2ef802c32"
      },
      "execution_count": 14,
      "outputs": [
        {
          "output_type": "stream",
          "name": "stdout",
          "text": [
            "==((====))==  Unsloth 2025.6.12: Fast Mistral patching. Transformers: 4.53.0.\n",
            "   \\\\   /|    Tesla T4. Num GPUs = 1. Max memory: 14.741 GB. Platform: Linux.\n",
            "O^O/ \\_/ \\    Torch: 2.7.0+cu126. CUDA: 7.5. CUDA Toolkit: 12.6. Triton: 3.3.0\n",
            "\\        /    Bfloat16 = FALSE. FA [Xformers = 0.0.30. FA2 = False]\n",
            " \"-____-\"     Free license: http://github.com/unslothai/unsloth\n",
            "Unsloth: Fast downloading is enabled - ignore downloading bars which are red colored!\n",
            "what is love? Can you be in love with two people at the same time?\n",
            "\n",
            "In the context of a romantic relationship, love typically involves strong emotional attachment and commitment to a singular partner. However, human relationships are complex and diverse, with individuals sometimes experiencing love for more than one person, even if that love is not romantic.\n",
            "\n",
            "In some cases, people may have a platonic love for more than one person simultaneously. Platonic love refers to a deep, non-sexual affection that is not romantic in nature. Platonic relationships can be just as meaningful and fulfilling as romantic ones, though they lack the sexual component.\n",
            "\n",
            "Feeling love for two people at once does not necessarily indicate a romantic or sexual attraction to both. Instead, it may simply reflect a strong emotional bond and affection that can be experienced with more than one person.\n",
            "\n",
            "It’s also important to consider that love can be mutual or one-\n"
          ]
        }
      ]
    }
  ]
}